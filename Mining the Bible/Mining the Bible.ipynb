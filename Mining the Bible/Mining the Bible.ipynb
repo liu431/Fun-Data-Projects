{
 "cells": [
  {
   "cell_type": "markdown",
   "metadata": {},
   "source": [
    "### Mining the Bible \n",
    "\n",
    "Li Liu \n",
    "\n",
    "12/20/2018\n",
    "\n",
    "@University of Chicago"
   ]
  },
  {
   "cell_type": "markdown",
   "metadata": {},
   "source": [
    "1. Randomly select a verse containing keywords\n",
    "\n",
    "2. Visualize number of verses in each book\n",
    "\n",
    "3. Counting words and splitting text\n",
    "\n",
    "4. Compare a verse across difference versions\n",
    "\n",
    "5. Text Similarity Metrics: Jaccard Similarity\n",
    "\n",
    "...More work in progress(NLP, CNN)..."
   ]
  },
  {
   "cell_type": "code",
   "execution_count": 137,
   "metadata": {},
   "outputs": [
    {
     "name": "stderr",
     "output_type": "stream",
     "text": [
      "C:\\Anaconda\\lib\\site-packages\\IPython\\html.py:14: ShimWarning: The `IPython.html` package has been deprecated since IPython 4.0. You should import from `notebook` instead. `IPython.html.widgets` has moved to `ipywidgets`.\n",
      "  \"`IPython.html.widgets` has moved to `ipywidgets`.\", ShimWarning)\n"
     ]
    }
   ],
   "source": [
    "import numpy as np\n",
    "import pandas as pd \n",
    "import numpy as np \n",
    "import matplotlib as mpl\n",
    "import matplotlib.pyplot as plt\n",
    "import seaborn as sns\n",
    "\n",
    "import re\n",
    "\n",
    "%matplotlib inline\n",
    "pd.options.display.max_colwidth = 1000 #to print complet verses"
   ]
  },
  {
   "cell_type": "code",
   "execution_count": 149,
   "metadata": {},
   "outputs": [
    {
     "data": {
      "text/html": [
       "<div>\n",
       "<style scoped>\n",
       "    .dataframe tbody tr th:only-of-type {\n",
       "        vertical-align: middle;\n",
       "    }\n",
       "\n",
       "    .dataframe tbody tr th {\n",
       "        vertical-align: top;\n",
       "    }\n",
       "\n",
       "    .dataframe thead th {\n",
       "        text-align: right;\n",
       "    }\n",
       "</style>\n",
       "<table border=\"1\" class=\"dataframe\">\n",
       "  <thead>\n",
       "    <tr style=\"text-align: right;\">\n",
       "      <th></th>\n",
       "      <th>id</th>\n",
       "      <th>table</th>\n",
       "      <th>abbreviation</th>\n",
       "      <th>language</th>\n",
       "      <th>version</th>\n",
       "      <th>info_url</th>\n",
       "      <th>copyright</th>\n",
       "    </tr>\n",
       "  </thead>\n",
       "  <tbody>\n",
       "    <tr>\n",
       "      <th>0</th>\n",
       "      <td>1</td>\n",
       "      <td>t_asv</td>\n",
       "      <td>ASV</td>\n",
       "      <td>english</td>\n",
       "      <td>American Standard-ASV1901</td>\n",
       "      <td>http://en.wikipedia.org/wiki/American_Standard_Version</td>\n",
       "      <td>Public Domain</td>\n",
       "    </tr>\n",
       "    <tr>\n",
       "      <th>1</th>\n",
       "      <td>2</td>\n",
       "      <td>t_bbe</td>\n",
       "      <td>BBE</td>\n",
       "      <td>english</td>\n",
       "      <td>Bible in Basic English</td>\n",
       "      <td>http://en.wikipedia.org/wiki/Bible_in_Basic_English</td>\n",
       "      <td>Public Domain</td>\n",
       "    </tr>\n",
       "    <tr>\n",
       "      <th>2</th>\n",
       "      <td>3</td>\n",
       "      <td>t_dby</td>\n",
       "      <td>DARBY</td>\n",
       "      <td>english</td>\n",
       "      <td>Darby English Bible</td>\n",
       "      <td>http://en.wikipedia.org/wiki/Darby_Bible</td>\n",
       "      <td>Public Domain</td>\n",
       "    </tr>\n",
       "    <tr>\n",
       "      <th>3</th>\n",
       "      <td>4</td>\n",
       "      <td>t_kjv</td>\n",
       "      <td>KJV</td>\n",
       "      <td>english</td>\n",
       "      <td>King James Version</td>\n",
       "      <td>http://en.wikipedia.org/wiki/King_James_Version</td>\n",
       "      <td>Public Domain</td>\n",
       "    </tr>\n",
       "    <tr>\n",
       "      <th>4</th>\n",
       "      <td>5</td>\n",
       "      <td>t_wbt</td>\n",
       "      <td>WBT</td>\n",
       "      <td>english</td>\n",
       "      <td>Webster's Bible</td>\n",
       "      <td>http://en.wikipedia.org/wiki/Webster%27s_Revision</td>\n",
       "      <td>Public Domain</td>\n",
       "    </tr>\n",
       "    <tr>\n",
       "      <th>5</th>\n",
       "      <td>6</td>\n",
       "      <td>t_web</td>\n",
       "      <td>WEB</td>\n",
       "      <td>english</td>\n",
       "      <td>World English Bible</td>\n",
       "      <td>http://en.wikipedia.org/wiki/World_English_Bible</td>\n",
       "      <td>Public Domain</td>\n",
       "    </tr>\n",
       "    <tr>\n",
       "      <th>6</th>\n",
       "      <td>7</td>\n",
       "      <td>t_ylt</td>\n",
       "      <td>YLT</td>\n",
       "      <td>english</td>\n",
       "      <td>Young's Literal Translation</td>\n",
       "      <td>http://en.wikipedia.org/wiki/Young%27s_Literal_Translation</td>\n",
       "      <td>Public Domain</td>\n",
       "    </tr>\n",
       "  </tbody>\n",
       "</table>\n",
       "</div>"
      ],
      "text/plain": [
       "   id  table abbreviation language                      version  \\\n",
       "0   1  t_asv          ASV  english    American Standard-ASV1901   \n",
       "1   2  t_bbe          BBE  english       Bible in Basic English   \n",
       "2   3  t_dby        DARBY  english          Darby English Bible   \n",
       "3   4  t_kjv          KJV  english           King James Version   \n",
       "4   5  t_wbt          WBT  english              Webster's Bible   \n",
       "5   6  t_web          WEB  english          World English Bible   \n",
       "6   7  t_ylt          YLT  english  Young's Literal Translation   \n",
       "\n",
       "                                                     info_url      copyright  \n",
       "0      http://en.wikipedia.org/wiki/American_Standard_Version  Public Domain  \n",
       "1         http://en.wikipedia.org/wiki/Bible_in_Basic_English  Public Domain  \n",
       "2                    http://en.wikipedia.org/wiki/Darby_Bible  Public Domain  \n",
       "3             http://en.wikipedia.org/wiki/King_James_Version  Public Domain  \n",
       "4           http://en.wikipedia.org/wiki/Webster%27s_Revision  Public Domain  \n",
       "5            http://en.wikipedia.org/wiki/World_English_Bible  Public Domain  \n",
       "6  http://en.wikipedia.org/wiki/Young%27s_Literal_Translation  Public Domain  "
      ]
     },
     "execution_count": 149,
     "metadata": {},
     "output_type": "execute_result"
    }
   ],
   "source": [
    "index=pd.read_csv('bible_version_key.csv')\n",
    "#Drop the columns where at least one element is missing.\n",
    "index=index.dropna(axis='columns')\n",
    "index"
   ]
  },
  {
   "cell_type": "code",
   "execution_count": 30,
   "metadata": {},
   "outputs": [],
   "source": [
    "#American Standard-ASV1901\n",
    "asv = pd.read_csv('t_asv.csv')\n",
    "\n",
    "#Bible in Basic English\n",
    "bbe = pd.read_csv('t_bbe.csv')\n",
    "\n",
    "#Darby English Bible\n",
    "dby = pd.read_csv('t_dby.csv',encoding='latin-1')\n",
    "\n",
    "#King James Version\n",
    "kjv = pd.read_csv('t_kjv.csv')\n",
    "\n",
    "#Webster's Bible\n",
    "wbt = pd.read_csv('t_wbt.csv')\n",
    "\n",
    "#World English Bible\n",
    "web = pd.read_csv('t_web.csv')\n",
    "\n",
    "#Young's Literal Translation\n",
    "ylt = pd.read_csv('t_ylt.csv')"
   ]
  },
  {
   "cell_type": "markdown",
   "metadata": {},
   "source": [
    "#### Randomly select a verse containing keywords"
   ]
  },
  {
   "cell_type": "code",
   "execution_count": 36,
   "metadata": {},
   "outputs": [
    {
     "name": "stdout",
     "output_type": "stream",
     "text": [
      "Verse Number: 19 109\n",
      "And they have rewarded me evil for good, And hatred for my love.\n"
     ]
    }
   ],
   "source": [
    "#Find verses containing \"LOVE\". \n",
    "love=asv[asv['t'].str.contains('love',case=False)]\n",
    "sel=np.random.randint(1,love.shape[0])\n",
    "print(\"Verse Number:\",love['b'].iloc[sel],love['c'].iloc[sel])\n",
    "print(love['t'].iloc[sel])"
   ]
  },
  {
   "cell_type": "code",
   "execution_count": 13,
   "metadata": {},
   "outputs": [
    {
     "name": "stdout",
     "output_type": "stream",
     "text": [
      "Verse Number: 48 3\n",
      "So that the law is become our tutor `to bring us' unto Christ, that we might be justified by faith.\n"
     ]
    }
   ],
   "source": [
    "#Find verses containing \"christ\"\n",
    "chri=asv[asv['t'].str.contains('christ',case=False)]\n",
    "sel=np.random.randint(1,chri.shape[0])\n",
    "print(\"Verse Number:\",chri['b'].iloc[sel],chri['c'].iloc[sel])\n",
    "print(chri['t'].iloc[sel])"
   ]
  },
  {
   "cell_type": "markdown",
   "metadata": {},
   "source": [
    "#### Visualize number of verses in each book"
   ]
  },
  {
   "cell_type": "code",
   "execution_count": 14,
   "metadata": {},
   "outputs": [
    {
     "data": {
      "text/plain": [
       "<Container object of 66 artists>"
      ]
     },
     "execution_count": 14,
     "metadata": {},
     "output_type": "execute_result"
    },
    {
     "data": {
      "image/png": "[encoded data removed]",
      "text/plain": [
       "<matplotlib.figure.Figure at 0x1b4d3852278>"
      ]
     },
     "metadata": {},
     "output_type": "display_data"
    }
   ],
   "source": [
    "ct=asv.groupby(['b'])['t'].count()\n",
    "plt.bar(range(1,67),ct)"
   ]
  },
  {
   "cell_type": "markdown",
   "metadata": {},
   "source": [
    "#### Counting Words"
   ]
  },
  {
   "cell_type": "code",
   "execution_count": 15,
   "metadata": {},
   "outputs": [
    {
     "name": "stdout",
     "output_type": "stream",
     "text": [
      "10 most common words:\n",
      "Word\tCount\n",
      "the\t59140\n",
      "and\t52094\n",
      "of\t34515\n",
      "to\t13771\n",
      "that\t13575\n",
      "in\t12770\n",
      "he\t10634\n",
      "unto\t9257\n",
      "for\t9170\n",
      "shall\t9105\n",
      "\n",
      "10 least common words:\n",
      "Word\tCount\n",
      "thyine\t1\n",
      "slaves\t1\n",
      "sumptuous\t1\n",
      "saileth\t1\n",
      "costliness\t1\n",
      "chalcedony\t1\n",
      "sardonyx\t1\n",
      "chrysolite\t1\n",
      "chrysoprase\t1\n",
      "transparent\t1\n"
     ]
    }
   ],
   "source": [
    "counts = dict()\n",
    "for text in asv['t']:\n",
    "    tokens=text.lower().split()\n",
    "    tokens=[re.sub(r'[^\\w\\s]','',i) for i in tokens]\n",
    "    for i in tokens: \n",
    "        if i in counts:\n",
    "            counts[i]+=1\n",
    "        else:\n",
    "            counts[i]=1\n",
    "sorted_counts = sorted(counts.items(), key=lambda pair: pair[1], reverse=True)\n",
    "print(\"10 most common words:\\nWord\\tCount\")\n",
    "for word, count in sorted_counts[:10]:\n",
    "    print(\"{}\\t{}\".format(word, count))\n",
    "\n",
    "print(\"\\n10 least common words:\\nWord\\tCount\")\n",
    "for word, count in sorted_counts[-10:]:\n",
    "    print(\"{}\\t{}\".format(word, count))"
   ]
  },
  {
   "cell_type": "markdown",
   "metadata": {},
   "source": [
    "#### Splitting text\n",
    "\n",
    "Regular Expression package `re` to split the text into sentences, and each sentence into words (tokens)\n",
    "\n",
    "`str.strip`: Remove leading and trailing spaces from each sentence\n",
    "`re.split(r\"<your regexp>\", text)`:regular expression that matches sentence delimiters\n",
    "\n",
    "`r`: preceding the regexp string - this denotes a raw string and tells Python not to interpret the characters in any special way (e.g. escape sequences like '\\n' do not get converted to newlines, etc.).\n",
    " \n",
    "link: https://docs.python.org/3.5/library/re.html"
   ]
  },
  {
   "cell_type": "code",
   "execution_count": 38,
   "metadata": {
    "collapsed": true
   },
   "outputs": [],
   "source": [
    "for text in asv['t']:\n",
    "    sentence=list(map(str.strip, re.split(r\"[.?](?!$.)\", text)))[:-1]\n",
    "    for sent in sentence:\n",
    "        list(map(str.strip, \n",
    "                       re.split(\"(?:(?:[^a-zA-Z]+')|(?:'[^a-zA-Z]+))|(?:[^a-zA-Z']+)\",sent)))"
   ]
  },
  {
   "cell_type": "markdown",
   "metadata": {
    "collapsed": true
   },
   "source": [
    "#### Compare a verse across difference versions"
   ]
  },
  {
   "cell_type": "markdown",
   "metadata": {},
   "source": [
    "Corinthians 13:4"
   ]
  },
  {
   "cell_type": "code",
   "execution_count": 99,
   "metadata": {},
   "outputs": [
    {
     "data": {
      "text/html": [
       "<div>\n",
       "<style scoped>\n",
       "    .dataframe tbody tr th:only-of-type {\n",
       "        vertical-align: middle;\n",
       "    }\n",
       "\n",
       "    .dataframe tbody tr th {\n",
       "        vertical-align: top;\n",
       "    }\n",
       "\n",
       "    .dataframe thead th {\n",
       "        text-align: right;\n",
       "    }\n",
       "</style>\n",
       "<table border=\"1\" class=\"dataframe\">\n",
       "  <thead>\n",
       "    <tr style=\"text-align: right;\">\n",
       "      <th></th>\n",
       "      <th>version</th>\n",
       "      <th>verse</th>\n",
       "    </tr>\n",
       "  </thead>\n",
       "  <tbody>\n",
       "    <tr>\n",
       "      <th>0</th>\n",
       "      <td>American Standard-ASV1901</td>\n",
       "      <td>Love suffereth long, `and' is kind; love envieth not; love vaunteth not itself, is not puffed up,</td>\n",
       "    </tr>\n",
       "    <tr>\n",
       "      <th>1</th>\n",
       "      <td>Bible in Basic English</td>\n",
       "      <td>Love is never tired of waiting; love is kind; love has no envy; love has no high opinion of itself, love has no pride;</td>\n",
       "    </tr>\n",
       "    <tr>\n",
       "      <th>2</th>\n",
       "      <td>Darby English Bible</td>\n",
       "      <td>Love has long patience, is kind; love is not emulous [of others]; love is not insolent and rash, is not puffed up,</td>\n",
       "    </tr>\n",
       "    <tr>\n",
       "      <th>3</th>\n",
       "      <td>King James Version</td>\n",
       "      <td>Charity suffereth long, and is kind; charity envieth not; charity vaunteth not itself, is not puffed up,</td>\n",
       "    </tr>\n",
       "    <tr>\n",
       "      <th>4</th>\n",
       "      <td>Webster's Bible</td>\n",
       "      <td>Charity suffereth long, and is kind; charity envieth not; charity vaunteth not itself, is not puffed up,</td>\n",
       "    </tr>\n",
       "    <tr>\n",
       "      <th>5</th>\n",
       "      <td>World English Bible</td>\n",
       "      <td>Love is patient and is kind; love doesn't envy. Love doesn't brag, is not proud,</td>\n",
       "    </tr>\n",
       "    <tr>\n",
       "      <th>6</th>\n",
       "      <td>Young's Literal Translation</td>\n",
       "      <td>The love is long-suffering, it is kind, the love doth not envy, the love doth not vaunt itself, is not puffed up,</td>\n",
       "    </tr>\n",
       "  </tbody>\n",
       "</table>\n",
       "</div>"
      ],
      "text/plain": [
       "                       version  \\\n",
       "0    American Standard-ASV1901   \n",
       "1       Bible in Basic English   \n",
       "2          Darby English Bible   \n",
       "3           King James Version   \n",
       "4              Webster's Bible   \n",
       "5          World English Bible   \n",
       "6  Young's Literal Translation   \n",
       "\n",
       "                                                                                                                    verse  \n",
       "0                       Love suffereth long, `and' is kind; love envieth not; love vaunteth not itself, is not puffed up,  \n",
       "1  Love is never tired of waiting; love is kind; love has no envy; love has no high opinion of itself, love has no pride;  \n",
       "2      Love has long patience, is kind; love is not emulous [of others]; love is not insolent and rash, is not puffed up,  \n",
       "3                Charity suffereth long, and is kind; charity envieth not; charity vaunteth not itself, is not puffed up,  \n",
       "4                Charity suffereth long, and is kind; charity envieth not; charity vaunteth not itself, is not puffed up,  \n",
       "5                                        Love is patient and is kind; love doesn't envy. Love doesn't brag, is not proud,  \n",
       "6       The love is long-suffering, it is kind, the love doth not envy, the love doth not vaunt itself, is not puffed up,  "
      ]
     },
     "execution_count": 99,
     "metadata": {},
     "output_type": "execute_result"
    }
   ],
   "source": [
    "#Book index for Corinthians, Chapter and verse number\n",
    "b,c,vn=46,13,4\n",
    "\n",
    "diff=pd.DataFrame(index['version'])\n",
    "ver=[asv,bbe,dby,kjv,wbt,web,ylt]\n",
    "for i,v in enumerate(ver):\n",
    "    diff.loc[[i],'verse'] =v[(v['b']==b) & (v['c']==c) &(v['v']==vn)]['t'].values\n",
    "    \n",
    "diff"
   ]
  },
  {
   "cell_type": "markdown",
   "metadata": {},
   "source": [
    "### Text Similarity Metrics "
   ]
  },
  {
   "cell_type": "markdown",
   "metadata": {},
   "source": [
    "#### Jaccard Similarity\n",
    "Metric=size of intersection of the set divided by total size of set"
   ]
  },
  {
   "cell_type": "code",
   "execution_count": 126,
   "metadata": {},
   "outputs": [],
   "source": [
    "def get_jaccard_sim(str1, str2): \n",
    "    a = set(str1.split()) \n",
    "    b = set(str2.split())\n",
    "    c = a.intersection(b)\n",
    "    return float(len(c)) / (len(a) + len(b) - len(c))"
   ]
  },
  {
   "cell_type": "code",
   "execution_count": 161,
   "metadata": {},
   "outputs": [
    {
     "data": {
      "text/plain": [
       "'In the beginning God created the heavens and the earth.'"
      ]
     },
     "execution_count": 161,
     "metadata": {},
     "output_type": "execute_result"
    }
   ],
   "source": [
    "#Example: get certain verse without index \n",
    "asv.loc[[0],'t'].to_string(index=False)"
   ]
  },
  {
   "cell_type": "code",
   "execution_count": 128,
   "metadata": {},
   "outputs": [
    {
     "data": {
      "text/plain": [
       "0.6470588235294118"
      ]
     },
     "execution_count": 128,
     "metadata": {},
     "output_type": "execute_result"
    }
   ],
   "source": [
    "#Compare two verses\n",
    "a=diff.loc[[0],'verse'].to_string(index=False)\n",
    "b=diff.loc[[4],'verse'].to_string(index=False)\n",
    "get_jaccard_sim(a,b)"
   ]
  },
  {
   "cell_type": "code",
   "execution_count": 145,
   "metadata": {},
   "outputs": [
    {
     "data": {
      "text/plain": [
       "<matplotlib.axes._subplots.AxesSubplot at 0x1b4da464588>"
      ]
     },
     "execution_count": 145,
     "metadata": {},
     "output_type": "execute_result"
    },
    {
     "data": {
      "image/png": "[encoded data removed]",
      "text/plain": [
       "<matplotlib.figure.Figure at 0x1b4da2baba8>"
      ]
     },
     "metadata": {},
     "output_type": "display_data"
    }
   ],
   "source": [
    "#Metric Matrix\n",
    "jac=pd.DataFrame(index=range(7))\n",
    "for it in range(7):\n",
    "    jac[it]=[get_jaccard_sim(diff.loc[[it],'verse'].to_string(index=False),\n",
    "                          diff.loc[[i],'verse'].to_string(index=False)) for i in range(7)]\n",
    "\n",
    "sns.heatmap(jac, annot=True)\n"
   ]
  },
  {
   "cell_type": "code",
   "execution_count": 224,
   "metadata": {},
   "outputs": [],
   "source": [
    "#Compare two books!\n",
    "def com_book(b1,b2):\n",
    "    if b1.shape[0]==b2.shape[0]:\n",
    "        sim=[]\n",
    "        for i in range(b1.shape[0]):\n",
    "            a=b1.loc[[i],'t'].to_string(index=False)\n",
    "            b=b2.loc[[i],'t'].to_string(index=False)    \n",
    "            sim.append(get_jaccard_sim(a,b))\n",
    "        return np.mean(sim)\n",
    "    else:\n",
    "        #print(\"Lengths differ. Something is wrong in the dataset :(\")\n",
    "        return np.nan"
   ]
  },
  {
   "cell_type": "code",
   "execution_count": 195,
   "metadata": {},
   "outputs": [
    {
     "data": {
      "text/plain": [
       "0.3528142296309077"
      ]
     },
     "execution_count": 195,
     "metadata": {},
     "output_type": "execute_result"
    }
   ],
   "source": [
    "com_book(asv,bbe)"
   ]
  },
  {
   "cell_type": "code",
   "execution_count": 208,
   "metadata": {},
   "outputs": [
    {
     "data": {
      "text/plain": [
       "False"
      ]
     },
     "execution_count": 208,
     "metadata": {},
     "output_type": "execute_result"
    }
   ],
   "source": [
    "com_book(asv,dby)"
   ]
  },
  {
   "cell_type": "code",
   "execution_count": 231,
   "metadata": {},
   "outputs": [],
   "source": [
    "#DataFrame Setup\n",
    "ver=[\"asv\",\"bbe\",\"dby\",\"kjv\",\"wbt\",\"web\",\"ylt\"]\n",
    "jacsim=pd.DataFrame(index=ver)\n",
    "for i in ver:\n",
    "    jacsim[i]=np.nan"
   ]
  },
  {
   "cell_type": "code",
   "execution_count": 229,
   "metadata": {},
   "outputs": [],
   "source": [
    "#Calculate Jaccard Similarity of any of the two versions.\n",
    "#Could be optimized by calculating (i,j) and (j,i) once.\n",
    "ver=[asv,bbe,dby,kjv,wbt,web,ylt]\n",
    "for i in range(7):\n",
    "    for j in range(7):\n",
    "        jacsim.iloc[i,j]=com_book(ver[i],ver[j])"
   ]
  },
  {
   "cell_type": "code",
   "execution_count": 230,
   "metadata": {},
   "outputs": [
    {
     "data": {
      "text/plain": [
       "<matplotlib.axes._subplots.AxesSubplot at 0x1b4da7c00f0>"
      ]
     },
     "execution_count": 230,
     "metadata": {},
     "output_type": "execute_result"
    },
    {
     "data": {
      "image/png": "[encoded data removed]",
      "text/plain": [
       "<matplotlib.figure.Figure at 0x1b4da92cef0>"
      ]
     },
     "metadata": {},
     "output_type": "display_data"
    }
   ],
   "source": [
    "sns.heatmap(jacsim, annot=True)"
   ]
  },
  {
   "cell_type": "markdown",
   "metadata": {},
   "source": [
    "#### Future work: discover patterns in the text using unsupervised learning and NLP"
   ]
  },
  {
   "cell_type": "code",
   "execution_count": null,
   "metadata": {
    "collapsed": true
   },
   "outputs": [],
   "source": []
  }
 ],
 "metadata": {
  "kernelspec": {
   "display_name": "Python 3",
   "language": "python",
   "name": "python3"
  },
  "language_info": {
   "codemirror_mode": {
    "name": "ipython",
    "version": 3
   },
   "file_extension": ".py",
   "mimetype": "text/x-python",
   "name": "python",
   "nbconvert_exporter": "python",
   "pygments_lexer": "ipython3",
   "version": "3.6.7"
  }
 },
 "nbformat": 4,
 "nbformat_minor": 2
}
