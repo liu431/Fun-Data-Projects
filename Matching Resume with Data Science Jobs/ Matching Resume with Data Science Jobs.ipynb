{
 "cells": [
  {
   "cell_type": "markdown",
   "metadata": {},
   "source": [
    "# Matching Resume with Data Science Jobs\n",
    "\n",
    "Author: Li Liu @Uchicago\n",
    "\n",
    "12/24/2018\n",
    "\n",
    "Data Source: https://www.kaggle.com/sl6149/data-scientist-job-market-in-the-us#fulltimeAT.csv\n",
    "\n",
    "Source of Data Source: Indeed.com"
   ]
  },
  {
   "cell_type": "code",
   "execution_count": 14,
   "metadata": {
    "collapsed": true
   },
   "outputs": [],
   "source": [
    "import numpy as np\n",
    "import pandas as pd\n",
    "import matplotlib.pyplot as plt\n",
    "from wordcloud import WordCloud, STOPWORDS"
   ]
  },
  {
   "cell_type": "code",
   "execution_count": 180,
   "metadata": {},
   "outputs": [
    {
     "data": {
      "text/html": [
       "<div>\n",
       "<style scoped>\n",
       "    .dataframe tbody tr th:only-of-type {\n",
       "        vertical-align: middle;\n",
       "    }\n",
       "\n",
       "    .dataframe tbody tr th {\n",
       "        vertical-align: top;\n",
       "    }\n",
       "\n",
       "    .dataframe thead th {\n",
       "        text-align: right;\n",
       "    }\n",
       "</style>\n",
       "<table border=\"1\" class=\"dataframe\">\n",
       "  <thead>\n",
       "    <tr style=\"text-align: right;\">\n",
       "      <th></th>\n",
       "      <th>position</th>\n",
       "      <th>company</th>\n",
       "      <th>description</th>\n",
       "      <th>numreview</th>\n",
       "    </tr>\n",
       "  </thead>\n",
       "  <tbody>\n",
       "    <tr>\n",
       "      <th>0</th>\n",
       "      <td>Senior Data Analyst</td>\n",
       "      <td>NORC at the University of Chicago</td>\n",
       "      <td>&lt;span id=\"job_summary\" class=\"summary\"&gt;&lt;div&gt;&lt;d...</td>\n",
       "      <td>370 reviews</td>\n",
       "    </tr>\n",
       "    <tr>\n",
       "      <th>1</th>\n",
       "      <td>Developer / Quantitative Analyst (Entry Level)...</td>\n",
       "      <td>DV Trading LLC</td>\n",
       "      <td>&lt;span id=\"job_summary\" class=\"summary\"&gt;&lt;div&gt;&lt;p...</td>\n",
       "      <td>6 reviews</td>\n",
       "    </tr>\n",
       "    <tr>\n",
       "      <th>2</th>\n",
       "      <td>Computational Scientist</td>\n",
       "      <td>The University of Chicago</td>\n",
       "      <td>&lt;span id=\"job_summary\" class=\"summary\"&gt;&lt;div&gt;&lt;h...</td>\n",
       "      <td>368 reviews</td>\n",
       "    </tr>\n",
       "    <tr>\n",
       "      <th>3</th>\n",
       "      <td>Junior Quantitative Researcher - Machine Learning</td>\n",
       "      <td>Akuna Capital</td>\n",
       "      <td>&lt;span id=\"job_summary\" class=\"summary\"&gt;&lt;b&gt;Abou...</td>\n",
       "      <td>6 reviews</td>\n",
       "    </tr>\n",
       "    <tr>\n",
       "      <th>4</th>\n",
       "      <td>Data Scientist / Quantitative Researcher, Syst...</td>\n",
       "      <td>DRW</td>\n",
       "      <td>&lt;span id=\"job_summary\" class=\"summary\"&gt;DRW is ...</td>\n",
       "      <td>NaN</td>\n",
       "    </tr>\n",
       "  </tbody>\n",
       "</table>\n",
       "</div>"
      ],
      "text/plain": [
       "                                            position  \\\n",
       "0                                Senior Data Analyst   \n",
       "1  Developer / Quantitative Analyst (Entry Level)...   \n",
       "2                            Computational Scientist   \n",
       "3  Junior Quantitative Researcher - Machine Learning   \n",
       "4  Data Scientist / Quantitative Researcher, Syst...   \n",
       "\n",
       "                             company  \\\n",
       "0  NORC at the University of Chicago   \n",
       "1                     DV Trading LLC   \n",
       "2          The University of Chicago   \n",
       "3                      Akuna Capital   \n",
       "4                                DRW   \n",
       "\n",
       "                                         description    numreview  \n",
       "0  <span id=\"job_summary\" class=\"summary\"><div><d...  370 reviews  \n",
       "1  <span id=\"job_summary\" class=\"summary\"><div><p...    6 reviews  \n",
       "2  <span id=\"job_summary\" class=\"summary\"><div><h...  368 reviews  \n",
       "3  <span id=\"job_summary\" class=\"summary\"><b>Abou...    6 reviews  \n",
       "4  <span id=\"job_summary\" class=\"summary\">DRW is ...          NaN  "
      ]
     },
     "execution_count": 180,
     "metadata": {},
     "output_type": "execute_result"
    }
   ],
   "source": [
    "#Jobs in Chicago, IL as example\n",
    "df=pd.read_csv(\"fulltimeCHI.csv\")\n",
    "df=df.drop('location',axis=1)\n",
    "df.head()"
   ]
  },
  {
   "cell_type": "code",
   "execution_count": 96,
   "metadata": {
    "scrolled": false
   },
   "outputs": [
    {
     "data": {
      "text/html": [
       "<div>\n",
       "<style scoped>\n",
       "    .dataframe tbody tr th:only-of-type {\n",
       "        vertical-align: middle;\n",
       "    }\n",
       "\n",
       "    .dataframe tbody tr th {\n",
       "        vertical-align: top;\n",
       "    }\n",
       "\n",
       "    .dataframe thead th {\n",
       "        text-align: right;\n",
       "    }\n",
       "</style>\n",
       "<table border=\"1\" class=\"dataframe\">\n",
       "  <thead>\n",
       "    <tr style=\"text-align: right;\">\n",
       "      <th></th>\n",
       "      <th>position</th>\n",
       "      <th>company</th>\n",
       "      <th>description</th>\n",
       "      <th>numreview</th>\n",
       "    </tr>\n",
       "  </thead>\n",
       "  <tbody>\n",
       "    <tr>\n",
       "      <th>127</th>\n",
       "      <td>Digital Marketing Data Analyst</td>\n",
       "      <td>BOEING</td>\n",
       "      <td>&lt;span id=\"job_summary\" class=\"summary\"&gt;&lt;div&gt;Ch...</td>\n",
       "      <td>5,550 reviews</td>\n",
       "    </tr>\n",
       "    <tr>\n",
       "      <th>166</th>\n",
       "      <td>Marketing Research Analyst</td>\n",
       "      <td>Phoenix Tree Publishing, Inc.</td>\n",
       "      <td>&lt;span id=\"job_summary\" class=\"summary\"&gt;&lt;p&gt;&lt;b&gt;J...</td>\n",
       "      <td>NaN</td>\n",
       "    </tr>\n",
       "    <tr>\n",
       "      <th>191</th>\n",
       "      <td>Global Growth Manager, Engagement and Retentio...</td>\n",
       "      <td>The Climate Corporation</td>\n",
       "      <td>&lt;span id=\"job_summary\" class=\"summary\"&gt;&lt;div&gt;&lt;p...</td>\n",
       "      <td>11 reviews</td>\n",
       "    </tr>\n",
       "    <tr>\n",
       "      <th>238</th>\n",
       "      <td>Director of Marketing</td>\n",
       "      <td>Civis Analytics</td>\n",
       "      <td>&lt;span id=\"job_summary\" class=\"summary\"&gt;About t...</td>\n",
       "      <td>NaN</td>\n",
       "    </tr>\n",
       "    <tr>\n",
       "      <th>264</th>\n",
       "      <td>Sr. Director of Marketing</td>\n",
       "      <td>H5</td>\n",
       "      <td>&lt;span id=\"job_summary\" class=\"summary\"&gt;&lt;div&gt;&lt;p...</td>\n",
       "      <td>5 reviews</td>\n",
       "    </tr>\n",
       "    <tr>\n",
       "      <th>280</th>\n",
       "      <td>E-Commerce Marketing Manager</td>\n",
       "      <td>Dyson</td>\n",
       "      <td>&lt;span id=\"job_summary\" class=\"summary\"&gt;&lt;div&gt;&lt;d...</td>\n",
       "      <td>209 reviews</td>\n",
       "    </tr>\n",
       "    <tr>\n",
       "      <th>297</th>\n",
       "      <td>Digital Marketing Manager</td>\n",
       "      <td>Brad's Deals</td>\n",
       "      <td>&lt;span id=\"job_summary\" class=\"summary\"&gt;We are ...</td>\n",
       "      <td>NaN</td>\n",
       "    </tr>\n",
       "    <tr>\n",
       "      <th>299</th>\n",
       "      <td>Marketing Manager (Demand Generation)</td>\n",
       "      <td>Walker Sands Communications</td>\n",
       "      <td>&lt;span id=\"job_summary\" class=\"summary\"&gt;&lt;div&gt;&lt;p...</td>\n",
       "      <td>NaN</td>\n",
       "    </tr>\n",
       "    <tr>\n",
       "      <th>317</th>\n",
       "      <td>Partner, Affiliate, &amp; SEM Marketing Specialist</td>\n",
       "      <td>BOEING</td>\n",
       "      <td>&lt;span id=\"job_summary\" class=\"summary\"&gt;&lt;div&gt;Ch...</td>\n",
       "      <td>5,550 reviews</td>\n",
       "    </tr>\n",
       "    <tr>\n",
       "      <th>362</th>\n",
       "      <td>Digital Marketing Analyst</td>\n",
       "      <td>Brad's Deals</td>\n",
       "      <td>&lt;span id=\"job_summary\" class=\"summary\"&gt;We are ...</td>\n",
       "      <td>NaN</td>\n",
       "    </tr>\n",
       "  </tbody>\n",
       "</table>\n",
       "</div>"
      ],
      "text/plain": [
       "                                              position  \\\n",
       "127                     Digital Marketing Data Analyst   \n",
       "166                         Marketing Research Analyst   \n",
       "191  Global Growth Manager, Engagement and Retentio...   \n",
       "238                              Director of Marketing   \n",
       "264                          Sr. Director of Marketing   \n",
       "280                       E-Commerce Marketing Manager   \n",
       "297                          Digital Marketing Manager   \n",
       "299              Marketing Manager (Demand Generation)   \n",
       "317     Partner, Affiliate, & SEM Marketing Specialist   \n",
       "362                          Digital Marketing Analyst   \n",
       "\n",
       "                           company  \\\n",
       "127                         BOEING   \n",
       "166  Phoenix Tree Publishing, Inc.   \n",
       "191        The Climate Corporation   \n",
       "238                Civis Analytics   \n",
       "264                             H5   \n",
       "280                          Dyson   \n",
       "297                   Brad's Deals   \n",
       "299    Walker Sands Communications   \n",
       "317                         BOEING   \n",
       "362                   Brad's Deals   \n",
       "\n",
       "                                           description      numreview  \n",
       "127  <span id=\"job_summary\" class=\"summary\"><div>Ch...  5,550 reviews  \n",
       "166  <span id=\"job_summary\" class=\"summary\"><p><b>J...            NaN  \n",
       "191  <span id=\"job_summary\" class=\"summary\"><div><p...     11 reviews  \n",
       "238  <span id=\"job_summary\" class=\"summary\">About t...            NaN  \n",
       "264  <span id=\"job_summary\" class=\"summary\"><div><p...      5 reviews  \n",
       "280  <span id=\"job_summary\" class=\"summary\"><div><d...    209 reviews  \n",
       "297  <span id=\"job_summary\" class=\"summary\">We are ...            NaN  \n",
       "299  <span id=\"job_summary\" class=\"summary\"><div><p...            NaN  \n",
       "317  <span id=\"job_summary\" class=\"summary\"><div>Ch...  5,550 reviews  \n",
       "362  <span id=\"job_summary\" class=\"summary\">We are ...            NaN  "
      ]
     },
     "execution_count": 96,
     "metadata": {},
     "output_type": "execute_result"
    }
   ],
   "source": [
    "#Locate positions with certain keyowrds\n",
    "df[df['position'].str.contains(\"marketing\",case=False)]"
   ]
  },
  {
   "cell_type": "code",
   "execution_count": 182,
   "metadata": {},
   "outputs": [
    {
     "data": {
      "image/png": "[encoded data removed]",
      "text/plain": [
       "<matplotlib.figure.Figure at 0x1c125376f98>"
      ]
     },
     "metadata": {},
     "output_type": "display_data"
    }
   ],
   "source": [
    "#Plot the histogram of reviews\n",
    "df['rev']=df['numreview'].str.split(' ').str[0]\n",
    "df['rev']=pd.to_numeric(df['rev'], errors='coerce')\n",
    "df['rev'].plot(kind='hist')\n",
    "plt.xlabel(\"Review Numbers\")\n",
    "plt.title('Hottness of Data Science Jobs in Chicago')\n",
    "plt.show()"
   ]
  },
  {
   "cell_type": "code",
   "execution_count": 229,
   "metadata": {},
   "outputs": [
    {
     "data": {
      "text/html": [
       "<div>\n",
       "<style scoped>\n",
       "    .dataframe tbody tr th:only-of-type {\n",
       "        vertical-align: middle;\n",
       "    }\n",
       "\n",
       "    .dataframe tbody tr th {\n",
       "        vertical-align: top;\n",
       "    }\n",
       "\n",
       "    .dataframe thead th {\n",
       "        text-align: right;\n",
       "    }\n",
       "</style>\n",
       "<table border=\"1\" class=\"dataframe\">\n",
       "  <thead>\n",
       "    <tr style=\"text-align: right;\">\n",
       "      <th></th>\n",
       "      <th>position</th>\n",
       "      <th>company</th>\n",
       "      <th>description</th>\n",
       "      <th>numreview</th>\n",
       "      <th>rev</th>\n",
       "      <th>des_new</th>\n",
       "      <th>Jac-Sim</th>\n",
       "      <th>Cos-Sim</th>\n",
       "    </tr>\n",
       "  </thead>\n",
       "  <tbody>\n",
       "    <tr>\n",
       "      <th>386</th>\n",
       "      <td>MGS Physical Analysis Senior Scientist- Chicag...</td>\n",
       "      <td>Mars</td>\n",
       "      <td>&lt;span id=\"job_summary\" class=\"summary\"&gt;&lt;div&gt;&lt;p...</td>\n",
       "      <td>978 reviews</td>\n",
       "      <td>978.0</td>\n",
       "      <td>A mutually rewarding experience. Work. Realize...</td>\n",
       "      <td>0.033143</td>\n",
       "      <td>0.575659</td>\n",
       "    </tr>\n",
       "    <tr>\n",
       "      <th>349</th>\n",
       "      <td>Principal Product Development Scientist - Chic...</td>\n",
       "      <td>Mars</td>\n",
       "      <td>&lt;span id=\"job_summary\" class=\"summary\"&gt;&lt;div&gt;&lt;p...</td>\n",
       "      <td>978 reviews</td>\n",
       "      <td>978.0</td>\n",
       "      <td>A mutually rewarding experience. Work. Realize...</td>\n",
       "      <td>0.037887</td>\n",
       "      <td>0.478888</td>\n",
       "    </tr>\n",
       "    <tr>\n",
       "      <th>419</th>\n",
       "      <td>Corporate Research Analyst</td>\n",
       "      <td>Grant Thornton</td>\n",
       "      <td>&lt;span id=\"job_summary\" class=\"summary\"&gt;&lt;div&gt;&lt;d...</td>\n",
       "      <td>919 reviews</td>\n",
       "      <td>919.0</td>\n",
       "      <td>Corporate Research Analyst(Job Number: 040640)...</td>\n",
       "      <td>0.044521</td>\n",
       "      <td>0.401181</td>\n",
       "    </tr>\n",
       "    <tr>\n",
       "      <th>142</th>\n",
       "      <td>Quantitative Equity Trading Research Analyst</td>\n",
       "      <td>Charles Schwab</td>\n",
       "      <td>&lt;span id=\"job_summary\" class=\"summary\"&gt;&lt;div&gt;De...</td>\n",
       "      <td>885 reviews</td>\n",
       "      <td>885.0</td>\n",
       "      <td>Description: Chicago - IL, IL150SW, 150 S Wack...</td>\n",
       "      <td>0.050251</td>\n",
       "      <td>0.334293</td>\n",
       "    </tr>\n",
       "    <tr>\n",
       "      <th>284</th>\n",
       "      <td>Senior Credit Research Analyst, North American...</td>\n",
       "      <td>Aviva</td>\n",
       "      <td>&lt;span id=\"job_summary\" class=\"summary\"&gt;&lt;div&gt;&lt;p...</td>\n",
       "      <td>868 reviews</td>\n",
       "      <td>868.0</td>\n",
       "      <td>Senior Credit Research Analyst, North American...</td>\n",
       "      <td>0.033501</td>\n",
       "      <td>0.427410</td>\n",
       "    </tr>\n",
       "  </tbody>\n",
       "</table>\n",
       "</div>"
      ],
      "text/plain": [
       "                                              position         company  \\\n",
       "386  MGS Physical Analysis Senior Scientist- Chicag...            Mars   \n",
       "349  Principal Product Development Scientist - Chic...            Mars   \n",
       "419                         Corporate Research Analyst  Grant Thornton   \n",
       "142       Quantitative Equity Trading Research Analyst  Charles Schwab   \n",
       "284  Senior Credit Research Analyst, North American...           Aviva   \n",
       "\n",
       "                                           description    numreview    rev  \\\n",
       "386  <span id=\"job_summary\" class=\"summary\"><div><p...  978 reviews  978.0   \n",
       "349  <span id=\"job_summary\" class=\"summary\"><div><p...  978 reviews  978.0   \n",
       "419  <span id=\"job_summary\" class=\"summary\"><div><d...  919 reviews  919.0   \n",
       "142  <span id=\"job_summary\" class=\"summary\"><div>De...  885 reviews  885.0   \n",
       "284  <span id=\"job_summary\" class=\"summary\"><div><p...  868 reviews  868.0   \n",
       "\n",
       "                                               des_new   Jac-Sim   Cos-Sim  \n",
       "386  A mutually rewarding experience. Work. Realize...  0.033143  0.575659  \n",
       "349  A mutually rewarding experience. Work. Realize...  0.037887  0.478888  \n",
       "419  Corporate Research Analyst(Job Number: 040640)...  0.044521  0.401181  \n",
       "142  Description: Chicago - IL, IL150SW, 150 S Wack...  0.050251  0.334293  \n",
       "284  Senior Credit Research Analyst, North American...  0.033501  0.427410  "
      ]
     },
     "execution_count": 229,
     "metadata": {},
     "output_type": "execute_result"
    }
   ],
   "source": [
    "#Find hottest positions\n",
    "df.sort_values('rev',ascending=False).iloc[0:5]"
   ]
  },
  {
   "cell_type": "code",
   "execution_count": 184,
   "metadata": {
    "scrolled": true
   },
   "outputs": [
    {
     "data": {
      "image/png": "[encoded data removed]",
      "text/plain": [
       "<matplotlib.figure.Figure at 0x1c12510df60>"
      ]
     },
     "metadata": {},
     "output_type": "display_data"
    }
   ],
   "source": [
    "#Word Cloud of Positions\n",
    "wc = WordCloud(stopwords=STOPWORDS,background_color='white',\n",
    "               width=2000,height=1800).generate(\" \".join(df['position']))\n",
    "plt.imshow(wc)\n",
    "plt.axis('off')\n",
    "plt.show()"
   ]
  },
  {
   "cell_type": "code",
   "execution_count": 185,
   "metadata": {},
   "outputs": [],
   "source": [
    "#Cleaning the \"description\" column\n",
    "desc=[]\n",
    "for i in range(df.shape[0]):\n",
    "    new=df.iloc[i]['description']\n",
    "    new=new.replace('\\n',' ')\n",
    "    new=new.replace('</div>','')\n",
    "    new=new.replace('</p>','')\n",
    "    new=new.replace('</li>','')\n",
    "    new=new.replace('<li>','')\n",
    "    new=new.replace('<p>','')\n",
    "    new=new.replace('</ul>','')\n",
    "    new=new.replace('<br>','')\n",
    "    new=new.replace('</div>','')\n",
    "    new=new.replace('<div>','')\n",
    "    new=new.replace('</span>','')\n",
    "    new=new.replace('</div>','')\n",
    "    new=new.replace('</span>','')\n",
    "    new=new.replace('<ul>',' ')\n",
    "    new=new.replace('</b>','')\n",
    "    new=new.replace('<b>','')\n",
    "    new=new.replace('<span id=\"job_summary\" class=\"summary\">','')\n",
    "    new=new.replace('<h2 class=\"jobSectionHeader\">','')\n",
    "    desc.append(new)\n",
    "df['des_new']=desc"
   ]
  },
  {
   "cell_type": "markdown",
   "metadata": {},
   "source": [
    "### Read in resume in pdf format"
   ]
  },
  {
   "cell_type": "code",
   "execution_count": 227,
   "metadata": {},
   "outputs": [],
   "source": [
    "from tika import parser\n",
    "\n",
    "raw = parser.from_file('resume.pdf')\n",
    "candidate=raw['content'].replace('\\n','').replace('\\uf0b7','').replace(\"  \",\" \")"
   ]
  },
  {
   "cell_type": "code",
   "execution_count": 228,
   "metadata": {},
   "outputs": [
    {
     "data": {
      "text/plain": [
       "'FIRSTNAME INITIAL LASTNAMELI LIU5608 S. Harper Avenue, Chicago, IL 60637 | Phone: (812) 287-3072 | Email: liu431@uchicago.eduWebsite: https://github.com/liu431PROFILE Relevant Skills: Data Science, Marketing Analytics, Machine Learning Technical Skills: Proficient in MS Office, Python, R, SQL, MATLAB, Tableau, Spark, Unix Awards: UC Graduate Scholarships (Oct. 2018 – Jun. 2020); IU Research Grant (Spring 2017)EDUCATION       University of Chicago                                                                     Chicago, ILM.A., Computational Social Science                                                     expected Jun. 2020 Relevant Courses: Python Programming, Computational Modeling, Spatial Data Science, Quantitative Marketing, Causal Inference, Unsupervised Learning, Statistical Inference, Algorithms Indiana University                                                                   Bloomington, INB.S., Applied Mathematics and Statistics                                                         May. 2018B.A.(Hons), Economics and Econometrics                                                        May. 2018 Relevant Courses: Big Data, Data Mining, Machine Learning, Probability, Numerical Analysis, Real Analysis, Complex Analysis, Mathematical Statistics, Advanced Econometrics, Financial Econometrics, Computational Economics, Game Theory, Social Networks, Microeconomic AnalysisPROJECT EXPERIENCEAnalyzing Images for Social Science (advisor: David Crandall)                             Feb. -Jun. 2018 Reviewed and implemented the computer vision algorithms of four existing technical papers Trained deep learning models on house images to estimate neighborhood income and market demand  Presented the results at the poster session of CSCI-B 657 (Computer Vision graduate course at IU)Why do Econ PhDs choose non-academic jobs? (advisor: Juan Carlos Escanciano)       Aug. 2017 - Apr. 2018 Constructed a discrete choice model to explain the career decision-making process of Economics PhDs Assembled the database of pedigrees, graduation years and current employers of 6187 graduates Presented the paper at the Jordan River Conference to over 100 economics professors and students    Tax Reform Policy for Health Care Market in Canada(advisor: Amanda Michaud)          Aug. - Nov. 2017 Simulated the Neoclassic Model and derived the equilibrium values of macroeconomic variables of Canada Conducted economic analyses for financing medical school education and investing in medical technology Proposed the reform policy of increasing income tax by 36% to achieve the 10% revenue growth     PROFESSIONAL EXPERIENCE    The University of Chicago Booth School of Business                                         Chicago, IL   Teaching Assistant                                                                     Sep.- Dec. 2018 Graded weekly assignments and exams for 150 MBA students in Applied Regression Analysis (BUS 41100) Answered students’ questions on R programming, linear regression, multiple regression, generalized linearmodels, time series models, panel data models and causal inference     Bloomington Farmers’ Market                                                         Bloomington, IN   Business Analytics Consultant                                                          Jun.- Aug. 2018 Formulated analytical models from sales data to optimize the logistics decisions Launched the digital marketing strategies such as referral programs and online purchases Increased customer retention rate and generated an estimated profit increase of 12% in three months   mailto:liu431@uchicago.eduhttps://github.com/liu431'"
      ]
     },
     "execution_count": 228,
     "metadata": {},
     "output_type": "execute_result"
    }
   ],
   "source": [
    "candidate"
   ]
  },
  {
   "cell_type": "markdown",
   "metadata": {},
   "source": [
    "### Matching"
   ]
  },
  {
   "cell_type": "markdown",
   "metadata": {},
   "source": [
    "#### Jaccard Similarity"
   ]
  },
  {
   "cell_type": "code",
   "execution_count": 188,
   "metadata": {
    "collapsed": true
   },
   "outputs": [],
   "source": [
    "def get_jaccard_sim(str1, str2): \n",
    "    a = set(str1.split()) \n",
    "    b = set(str2.split())\n",
    "    c = a.intersection(b)\n",
    "    return float(len(c)) / (len(a) + len(b) - len(c))"
   ]
  },
  {
   "cell_type": "code",
   "execution_count": 189,
   "metadata": {},
   "outputs": [],
   "source": [
    "score=[]\n",
    "for i in range(df.shape[0]):\n",
    "    a=df['des_new'].iloc[i]\n",
    "    b=candidate\n",
    "    score.append(get_jaccard_sim(a,b))\n",
    "df[\"Jac-Sim\"]=np.array(score)    "
   ]
  },
  {
   "cell_type": "code",
   "execution_count": 191,
   "metadata": {},
   "outputs": [
    {
     "data": {
      "text/html": [
       "<div>\n",
       "<style scoped>\n",
       "    .dataframe tbody tr th:only-of-type {\n",
       "        vertical-align: middle;\n",
       "    }\n",
       "\n",
       "    .dataframe tbody tr th {\n",
       "        vertical-align: top;\n",
       "    }\n",
       "\n",
       "    .dataframe thead th {\n",
       "        text-align: right;\n",
       "    }\n",
       "</style>\n",
       "<table border=\"1\" class=\"dataframe\">\n",
       "  <thead>\n",
       "    <tr style=\"text-align: right;\">\n",
       "      <th></th>\n",
       "      <th>position</th>\n",
       "      <th>company</th>\n",
       "      <th>description</th>\n",
       "      <th>numreview</th>\n",
       "      <th>rev</th>\n",
       "      <th>des_new</th>\n",
       "      <th>Jac-Sim</th>\n",
       "    </tr>\n",
       "  </thead>\n",
       "  <tbody>\n",
       "    <tr>\n",
       "      <th>72</th>\n",
       "      <td>Senior Data Scientist</td>\n",
       "      <td>MARC USA LLC</td>\n",
       "      <td>&lt;span id=\"job_summary\" class=\"summary\"&gt;&lt;div&gt;&lt;p...</td>\n",
       "      <td>NaN</td>\n",
       "      <td>NaN</td>\n",
       "      <td>MARC USA is a national, full-service advertisi...</td>\n",
       "      <td>0.078788</td>\n",
       "    </tr>\n",
       "    <tr>\n",
       "      <th>64</th>\n",
       "      <td>Senior Data Scientist</td>\n",
       "      <td>Conversant Media</td>\n",
       "      <td>&lt;span id=\"job_summary\" class=\"summary\"&gt;&lt;div&gt;&lt;d...</td>\n",
       "      <td>20 reviews</td>\n",
       "      <td>20.0</td>\n",
       "      <td>OVERVIEW  As a Senior Data Scientist in our De...</td>\n",
       "      <td>0.075221</td>\n",
       "    </tr>\n",
       "    <tr>\n",
       "      <th>48</th>\n",
       "      <td>Machine Learning Data Scientist</td>\n",
       "      <td>Wolverine Trading</td>\n",
       "      <td>&lt;span id=\"job_summary\" class=\"summary\"&gt;&lt;div&gt;&lt;d...</td>\n",
       "      <td>10 reviews</td>\n",
       "      <td>10.0</td>\n",
       "      <td>&lt;h1 class=\"jobSectionHeader\"&gt;Machine Learning ...</td>\n",
       "      <td>0.074844</td>\n",
       "    </tr>\n",
       "    <tr>\n",
       "      <th>35</th>\n",
       "      <td>Data Scientist</td>\n",
       "      <td>Capax Global LLC</td>\n",
       "      <td>&lt;span id=\"job_summary\" class=\"summary\"&gt;&lt;div&gt;&lt;d...</td>\n",
       "      <td>NaN</td>\n",
       "      <td>NaN</td>\n",
       "      <td>Do you want to work at the forefront of artifi...</td>\n",
       "      <td>0.072165</td>\n",
       "    </tr>\n",
       "    <tr>\n",
       "      <th>89</th>\n",
       "      <td>Mid-Level Data Scientist (Python, Pandas, NumP...</td>\n",
       "      <td>Workbridge Associates</td>\n",
       "      <td>&lt;span id=\"job_summary\" class=\"summary\"&gt;&lt;div&gt;&lt;p...</td>\n",
       "      <td>40 reviews</td>\n",
       "      <td>40.0</td>\n",
       "      <td>A thriving company located in Downtown Chicago...</td>\n",
       "      <td>0.069388</td>\n",
       "    </tr>\n",
       "  </tbody>\n",
       "</table>\n",
       "</div>"
      ],
      "text/plain": [
       "                                             position                company  \\\n",
       "72                              Senior Data Scientist           MARC USA LLC   \n",
       "64                              Senior Data Scientist       Conversant Media   \n",
       "48                    Machine Learning Data Scientist      Wolverine Trading   \n",
       "35                                     Data Scientist       Capax Global LLC   \n",
       "89  Mid-Level Data Scientist (Python, Pandas, NumP...  Workbridge Associates   \n",
       "\n",
       "                                          description   numreview   rev  \\\n",
       "72  <span id=\"job_summary\" class=\"summary\"><div><p...         NaN   NaN   \n",
       "64  <span id=\"job_summary\" class=\"summary\"><div><d...  20 reviews  20.0   \n",
       "48  <span id=\"job_summary\" class=\"summary\"><div><d...  10 reviews  10.0   \n",
       "35  <span id=\"job_summary\" class=\"summary\"><div><d...         NaN   NaN   \n",
       "89  <span id=\"job_summary\" class=\"summary\"><div><p...  40 reviews  40.0   \n",
       "\n",
       "                                              des_new   Jac-Sim  \n",
       "72  MARC USA is a national, full-service advertisi...  0.078788  \n",
       "64  OVERVIEW  As a Senior Data Scientist in our De...  0.075221  \n",
       "48  <h1 class=\"jobSectionHeader\">Machine Learning ...  0.074844  \n",
       "35  Do you want to work at the forefront of artifi...  0.072165  \n",
       "89  A thriving company located in Downtown Chicago...  0.069388  "
      ]
     },
     "execution_count": 191,
     "metadata": {},
     "output_type": "execute_result"
    }
   ],
   "source": [
    "df.sort_values('Jac-Sim',ascending=False).iloc[0:5]"
   ]
  },
  {
   "cell_type": "markdown",
   "metadata": {},
   "source": [
    "#### Cosine Similarity\n",
    "\n",
    "calculates similarity by measuring the cosine of angle between two vectors"
   ]
  },
  {
   "cell_type": "code",
   "execution_count": 196,
   "metadata": {
    "collapsed": true
   },
   "outputs": [],
   "source": [
    "from collections import Counter\n",
    "from sklearn.feature_extraction.text import CountVectorizer\n",
    "from sklearn.metrics.pairwise import cosine_similarity"
   ]
  },
  {
   "cell_type": "code",
   "execution_count": 197,
   "metadata": {
    "collapsed": true
   },
   "outputs": [],
   "source": [
    "def get_cosine_sim(*strs): \n",
    "    vectors = [t for t in get_vectors(*strs)]\n",
    "    return cosine_similarity(vectors)\n",
    "    \n",
    "def get_vectors(*strs):\n",
    "    text = [t for t in strs]\n",
    "    vectorizer = CountVectorizer(text)\n",
    "    vectorizer.fit(text)\n",
    "    return vectorizer.transform(text).toarray()"
   ]
  },
  {
   "cell_type": "code",
   "execution_count": 206,
   "metadata": {
    "collapsed": true
   },
   "outputs": [],
   "source": [
    "score=[]\n",
    "for i in range(df.shape[0]):\n",
    "    a=df.iloc[i]['description']\n",
    "    b=candidate\n",
    "    score.append(get_cosine_sim(a,b)[0,1])\n",
    "df[\"Cos-Sim\"]=np.array(score) "
   ]
  },
  {
   "cell_type": "code",
   "execution_count": 210,
   "metadata": {},
   "outputs": [
    {
     "data": {
      "text/html": [
       "<div>\n",
       "<style scoped>\n",
       "    .dataframe tbody tr th:only-of-type {\n",
       "        vertical-align: middle;\n",
       "    }\n",
       "\n",
       "    .dataframe tbody tr th {\n",
       "        vertical-align: top;\n",
       "    }\n",
       "\n",
       "    .dataframe thead th {\n",
       "        text-align: right;\n",
       "    }\n",
       "</style>\n",
       "<table border=\"1\" class=\"dataframe\">\n",
       "  <thead>\n",
       "    <tr style=\"text-align: right;\">\n",
       "      <th></th>\n",
       "      <th>position</th>\n",
       "      <th>company</th>\n",
       "      <th>description</th>\n",
       "      <th>numreview</th>\n",
       "      <th>rev</th>\n",
       "      <th>des_new</th>\n",
       "      <th>Jac-Sim</th>\n",
       "      <th>Cos-Sim</th>\n",
       "    </tr>\n",
       "  </thead>\n",
       "  <tbody>\n",
       "    <tr>\n",
       "      <th>15</th>\n",
       "      <td>Arity-Data Scientist-Cons II</td>\n",
       "      <td>Allstate</td>\n",
       "      <td>&lt;span id=\"job_summary\" class=\"summary\"&gt;&lt;div&gt;&lt;p...</td>\n",
       "      <td>5,375 reviews</td>\n",
       "      <td>NaN</td>\n",
       "      <td>Arity is a technology company founded by The A...</td>\n",
       "      <td>0.058824</td>\n",
       "      <td>0.600460</td>\n",
       "    </tr>\n",
       "    <tr>\n",
       "      <th>194</th>\n",
       "      <td>Medical Physicist</td>\n",
       "      <td>Ann &amp; Robert H. Lurie Children’s Hospital of C...</td>\n",
       "      <td>&lt;span id=\"job_summary\" class=\"summary\"&gt;&lt;div&gt;&lt;h...</td>\n",
       "      <td>178 reviews</td>\n",
       "      <td>178.0</td>\n",
       "      <td>Overview &lt;/h2&gt; To provide clinical and researc...</td>\n",
       "      <td>0.042710</td>\n",
       "      <td>0.593789</td>\n",
       "    </tr>\n",
       "    <tr>\n",
       "      <th>157</th>\n",
       "      <td>Sr. Data Scientist / Manager - Prescriptive An...</td>\n",
       "      <td>Allstate</td>\n",
       "      <td>&lt;span id=\"job_summary\" class=\"summary\"&gt;&lt;div&gt;&lt;p...</td>\n",
       "      <td>5,375 reviews</td>\n",
       "      <td>NaN</td>\n",
       "      <td>Where good people build rewarding careers. Thi...</td>\n",
       "      <td>0.055021</td>\n",
       "      <td>0.591382</td>\n",
       "    </tr>\n",
       "    <tr>\n",
       "      <th>13</th>\n",
       "      <td>Arity - Senior Data Scientist</td>\n",
       "      <td>Allstate</td>\n",
       "      <td>&lt;span id=\"job_summary\" class=\"summary\"&gt;&lt;div&gt;&lt;p...</td>\n",
       "      <td>5,375 reviews</td>\n",
       "      <td>NaN</td>\n",
       "      <td>Where good people build rewarding careers. Thi...</td>\n",
       "      <td>0.054608</td>\n",
       "      <td>0.581180</td>\n",
       "    </tr>\n",
       "    <tr>\n",
       "      <th>386</th>\n",
       "      <td>MGS Physical Analysis Senior Scientist- Chicag...</td>\n",
       "      <td>Mars</td>\n",
       "      <td>&lt;span id=\"job_summary\" class=\"summary\"&gt;&lt;div&gt;&lt;p...</td>\n",
       "      <td>978 reviews</td>\n",
       "      <td>978.0</td>\n",
       "      <td>A mutually rewarding experience. Work. Realize...</td>\n",
       "      <td>0.033143</td>\n",
       "      <td>0.575659</td>\n",
       "    </tr>\n",
       "  </tbody>\n",
       "</table>\n",
       "</div>"
      ],
      "text/plain": [
       "                                              position  \\\n",
       "15                        Arity-Data Scientist-Cons II   \n",
       "194                                  Medical Physicist   \n",
       "157  Sr. Data Scientist / Manager - Prescriptive An...   \n",
       "13                       Arity - Senior Data Scientist   \n",
       "386  MGS Physical Analysis Senior Scientist- Chicag...   \n",
       "\n",
       "                                               company  \\\n",
       "15                                            Allstate   \n",
       "194  Ann & Robert H. Lurie Children’s Hospital of C...   \n",
       "157                                           Allstate   \n",
       "13                                            Allstate   \n",
       "386                                               Mars   \n",
       "\n",
       "                                           description      numreview    rev  \\\n",
       "15   <span id=\"job_summary\" class=\"summary\"><div><p...  5,375 reviews    NaN   \n",
       "194  <span id=\"job_summary\" class=\"summary\"><div><h...    178 reviews  178.0   \n",
       "157  <span id=\"job_summary\" class=\"summary\"><div><p...  5,375 reviews    NaN   \n",
       "13   <span id=\"job_summary\" class=\"summary\"><div><p...  5,375 reviews    NaN   \n",
       "386  <span id=\"job_summary\" class=\"summary\"><div><p...    978 reviews  978.0   \n",
       "\n",
       "                                               des_new   Jac-Sim   Cos-Sim  \n",
       "15   Arity is a technology company founded by The A...  0.058824  0.600460  \n",
       "194  Overview </h2> To provide clinical and researc...  0.042710  0.593789  \n",
       "157  Where good people build rewarding careers. Thi...  0.055021  0.591382  \n",
       "13   Where good people build rewarding careers. Thi...  0.054608  0.581180  \n",
       "386  A mutually rewarding experience. Work. Realize...  0.033143  0.575659  "
      ]
     },
     "execution_count": 210,
     "metadata": {},
     "output_type": "execute_result"
    }
   ],
   "source": [
    "df.sort_values('Cos-Sim',ascending=False).iloc[0:5]"
   ]
  },
  {
   "cell_type": "code",
   "execution_count": null,
   "metadata": {
    "collapsed": true
   },
   "outputs": [],
   "source": []
  },
  {
   "cell_type": "code",
   "execution_count": null,
   "metadata": {
    "collapsed": true
   },
   "outputs": [],
   "source": []
  },
  {
   "cell_type": "code",
   "execution_count": null,
   "metadata": {
    "collapsed": true
   },
   "outputs": [],
   "source": []
  }
 ],
 "metadata": {
  "kernelspec": {
   "display_name": "Python 3",
   "language": "python",
   "name": "python3"
  },
  "language_info": {
   "codemirror_mode": {
    "name": "ipython",
    "version": 3
   },
   "file_extension": ".py",
   "mimetype": "text/x-python",
   "name": "python",
   "nbconvert_exporter": "python",
   "pygments_lexer": "ipython3",
   "version": "3.6.7"
  }
 },
 "nbformat": 4,
 "nbformat_minor": 2
}
