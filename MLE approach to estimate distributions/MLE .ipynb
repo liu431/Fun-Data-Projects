{
 "cells": [
  {
   "cell_type": "code",
   "execution_count": 150,
   "metadata": {},
   "outputs": [],
   "source": [
    "import numpy as np\n",
    "import pandas as pd\n",
    "import matplotlib.pyplot as plt\n",
    "import scipy.optimize as opt\n",
    "import scipy.stats as sts"
   ]
  },
  {
   "cell_type": "code",
   "execution_count": 151,
   "metadata": {},
   "outputs": [
    {
     "data": {
      "text/html": [
       "<div>\n",
       "<style scoped>\n",
       "    .dataframe tbody tr th:only-of-type {\n",
       "        vertical-align: middle;\n",
       "    }\n",
       "\n",
       "    .dataframe tbody tr th {\n",
       "        vertical-align: top;\n",
       "    }\n",
       "\n",
       "    .dataframe thead th {\n",
       "        text-align: right;\n",
       "    }\n",
       "</style>\n",
       "<table border=\"1\" class=\"dataframe\">\n",
       "  <thead>\n",
       "    <tr style=\"text-align: right;\">\n",
       "      <th></th>\n",
       "      <th>avgrate</th>\n",
       "      <th>numstores</th>\n",
       "      <th>defrate</th>\n",
       "      <th>pdrad3</th>\n",
       "      <th>pnrad3</th>\n",
       "      <th>totrad3</th>\n",
       "      <th>unrt_zip</th>\n",
       "      <th>medtotinc2010</th>\n",
       "      <th>edbachplus_zip</th>\n",
       "      <th>pop_zip</th>\n",
       "      <th>mdage_zip</th>\n",
       "      <th>pctblk2_zip</th>\n",
       "    </tr>\n",
       "  </thead>\n",
       "  <tbody>\n",
       "    <tr>\n",
       "      <th>0</th>\n",
       "      <td>521.429993</td>\n",
       "      <td>23</td>\n",
       "      <td>24.390244</td>\n",
       "      <td>7</td>\n",
       "      <td>3</td>\n",
       "      <td>12</td>\n",
       "      <td>5.7</td>\n",
       "      <td>38485.44531</td>\n",
       "      <td>40.2</td>\n",
       "      <td>44821</td>\n",
       "      <td>33.6</td>\n",
       "      <td>1.0</td>\n",
       "    </tr>\n",
       "    <tr>\n",
       "      <th>1</th>\n",
       "      <td>521.429993</td>\n",
       "      <td>23</td>\n",
       "      <td>38.596489</td>\n",
       "      <td>15</td>\n",
       "      <td>2</td>\n",
       "      <td>18</td>\n",
       "      <td>7.1</td>\n",
       "      <td>31289.11133</td>\n",
       "      <td>14.1</td>\n",
       "      <td>68295</td>\n",
       "      <td>29.2</td>\n",
       "      <td>2.2</td>\n",
       "    </tr>\n",
       "    <tr>\n",
       "      <th>2</th>\n",
       "      <td>521.429993</td>\n",
       "      <td>23</td>\n",
       "      <td>38.954868</td>\n",
       "      <td>6</td>\n",
       "      <td>3</td>\n",
       "      <td>11</td>\n",
       "      <td>7.1</td>\n",
       "      <td>31289.11133</td>\n",
       "      <td>14.1</td>\n",
       "      <td>68295</td>\n",
       "      <td>29.2</td>\n",
       "      <td>2.2</td>\n",
       "    </tr>\n",
       "    <tr>\n",
       "      <th>3</th>\n",
       "      <td>521.429993</td>\n",
       "      <td>23</td>\n",
       "      <td>27.352297</td>\n",
       "      <td>28</td>\n",
       "      <td>29</td>\n",
       "      <td>58</td>\n",
       "      <td>9.2</td>\n",
       "      <td>31421.22266</td>\n",
       "      <td>11.3</td>\n",
       "      <td>26524</td>\n",
       "      <td>28.5</td>\n",
       "      <td>1.4</td>\n",
       "    </tr>\n",
       "    <tr>\n",
       "      <th>4</th>\n",
       "      <td>521.429993</td>\n",
       "      <td>23</td>\n",
       "      <td>30.055660</td>\n",
       "      <td>22</td>\n",
       "      <td>17</td>\n",
       "      <td>42</td>\n",
       "      <td>7.5</td>\n",
       "      <td>27502.00000</td>\n",
       "      <td>22.3</td>\n",
       "      <td>28936</td>\n",
       "      <td>30.8</td>\n",
       "      <td>2.7</td>\n",
       "    </tr>\n",
       "  </tbody>\n",
       "</table>\n",
       "</div>"
      ],
      "text/plain": [
       "      avgrate  numstores    defrate  pdrad3  pnrad3  totrad3  unrt_zip  \\\n",
       "0  521.429993         23  24.390244       7       3       12       5.7   \n",
       "1  521.429993         23  38.596489      15       2       18       7.1   \n",
       "2  521.429993         23  38.954868       6       3       11       7.1   \n",
       "3  521.429993         23  27.352297      28      29       58       9.2   \n",
       "4  521.429993         23  30.055660      22      17       42       7.5   \n",
       "\n",
       "   medtotinc2010  edbachplus_zip  pop_zip  mdage_zip  pctblk2_zip  \n",
       "0    38485.44531            40.2    44821       33.6          1.0  \n",
       "1    31289.11133            14.1    68295       29.2          2.2  \n",
       "2    31289.11133            14.1    68295       29.2          2.2  \n",
       "3    31421.22266            11.3    26524       28.5          1.4  \n",
       "4    27502.00000            22.3    28936       30.8          2.7  "
      ]
     },
     "execution_count": 151,
     "metadata": {},
     "output_type": "execute_result"
    }
   ],
   "source": [
    "df=pd.read_csv(\"LenderData.csv\")\n",
    "df.head()"
   ]
  },
  {
   "cell_type": "markdown",
   "metadata": {},
   "source": [
    "### Using the distributions of interest rates and median income (10 points)"
   ]
  },
  {
   "cell_type": "markdown",
   "metadata": {},
   "source": [
    "Create a plot of the histogram of high interest rate lenders interest rates avgrate. Use 30 bins. Make sure to label your axes and give the figure a title. If you had to group lenders into  𝑁  categories, how many categories would you choose based on the interest rate data? That is, how many groupings to you see in these data?"
   ]
  },
  {
   "cell_type": "code",
   "execution_count": 152,
   "metadata": {},
   "outputs": [
    {
     "data": {
      "image/png": "[encoded data removed]",
      "text/plain": [
       "<Figure size 432x288 with 1 Axes>"
      ]
     },
     "metadata": {
      "needs_background": "light"
     },
     "output_type": "display_data"
    }
   ],
   "source": [
    "plt.hist(df['avgrate'],bins=30, density=True)\n",
    "plt.xlabel(\"Interest Rate\")\n",
    "plt.ylabel(\"Density\")\n",
    "plt.title(\"Histogram of interest rates\")\n",
    "plt.show()"
   ]
  },
  {
   "cell_type": "markdown",
   "metadata": {},
   "source": [
    "Four groups: 1. 350-475; 2. 476-490; 3. 491-540; 4. 541-650"
   ]
  },
  {
   "cell_type": "markdown",
   "metadata": {},
   "source": [
    "Create a plot of the histogram of median total household income medtotinc2010. Use 30 bins. Make sure to label your axes and give the figure a title."
   ]
  },
  {
   "cell_type": "code",
   "execution_count": 153,
   "metadata": {},
   "outputs": [
    {
     "data": {
      "image/png": "[encoded data removed]",
      "text/plain": [
       "<Figure size 432x288 with 1 Axes>"
      ]
     },
     "metadata": {
      "needs_background": "light"
     },
     "output_type": "display_data"
    }
   ],
   "source": [
    "plt.hist(df['medtotinc2010'],bins=30, density=True)\n",
    "plt.xlabel(\"Median total household income\")\n",
    "plt.ylabel(\"Percentage\")\n",
    "plt.title(\"Histogram of median total household income\")\n",
    "plt.show()"
   ]
  },
  {
   "cell_type": "code",
   "execution_count": 154,
   "metadata": {},
   "outputs": [
    {
     "data": {
      "text/plain": [
       "count      147.000000\n",
       "mean     32772.135390\n",
       "std       6639.982466\n",
       "min      17068.277340\n",
       "25%      27502.000000\n",
       "50%      31611.000000\n",
       "75%      36955.138670\n",
       "max      52972.890630\n",
       "Name: medtotinc2010, dtype: float64"
      ]
     },
     "execution_count": 154,
     "metadata": {},
     "output_type": "execute_result"
    }
   ],
   "source": [
    "df['medtotinc2010'].describe()"
   ]
  },
  {
   "cell_type": "markdown",
   "metadata": {},
   "source": [
    "Use MLE to fit a lognormal distribution  𝐿𝑁(𝜇,𝜎)  to the median income data medtotinc2010. Report your estimated  𝜇̂ 𝑚𝑙𝑒  and  𝜎̂ 𝑚𝑙𝑒  as well as the likelihood function value at the maximum (not the negative log likelihood). Report your estimate of the variance-covariance matrix of your maximum likelihood estimates of  𝜇̂ 𝑚𝑙𝑒 and  𝜎̂ 𝑚𝑙𝑒 . Report the standard error on the estimate for  𝜇̂ 𝑚𝑙𝑒 ."
   ]
  },
  {
   "cell_type": "markdown",
   "metadata": {},
   "source": [
    "### Lognormal"
   ]
  },
  {
   "cell_type": "code",
   "execution_count": 155,
   "metadata": {},
   "outputs": [],
   "source": [
    "# Define function that generates values of a lognormal pdf\n",
    "def trunc_lognorm_pdf(xvals, mu, sigma, cut_lb, cut_ub):\n",
    "\n",
    "    if cut_ub == 'None' and cut_lb == 'None':\n",
    "        prob_notcut = 1.0\n",
    "    elif cut_ub == 'None' and cut_lb != 'None':\n",
    "        prob_notcut = 1.0 - sts.lognorm.cdf(cut_lb, sigma, scale=np.exp(mu))\n",
    "    elif cut_ub != 'None' and cut_lb == 'None':\n",
    "        prob_notcut = sts.lognorm.cdf(cut_ub, sigma,scale=np.exp(mu))\n",
    "    elif cut_ub != 'None' and cut_lb != 'None':\n",
    "        prob_notcut = (sts.lognorm.cdf(cut_ub, sigma,scale=np.exp(mu)) -\n",
    "                       sts.lognorm.cdf(cut_lb, sigma,scale=np.exp(mu)))\n",
    "            \n",
    "    pdf_vals    = ((1/(xvals*sigma * np.sqrt(2 * np.pi)) *\n",
    "                    np.exp( - (np.log(xvals) - mu)**2 / (2 * sigma**2))) /\n",
    "                    prob_notcut)\n",
    "    \n",
    "    return pdf_vals"
   ]
  },
  {
   "cell_type": "code",
   "execution_count": 156,
   "metadata": {},
   "outputs": [],
   "source": [
    "# Define log likelihood function for the log normal distribution\n",
    "def log_lik_trunclognorm(xvals, mu, sigma, cut_lb, cut_ub):\n",
    "\n",
    "    pdf_vals = trunc_lognorm_pdf(xvals, mu, sigma, cut_lb, cut_ub)\n",
    "    ln_pdf_vals = np.log(pdf_vals)\n",
    "    log_lik_val = ln_pdf_vals.sum()\n",
    "    \n",
    "    return log_lik_val"
   ]
  },
  {
   "cell_type": "code",
   "execution_count": 157,
   "metadata": {},
   "outputs": [],
   "source": [
    "# Compute the negative of the log likelihood function given parameters and data\n",
    "def crit(params, *args):\n",
    "    \n",
    "    mu, sigma = params\n",
    "    xvals, cut_lb, cut_ub = args\n",
    "    log_lik_val = log_lik_trunclognorm(xvals, mu, abs(sigma), cut_lb, cut_ub)\n",
    "    neg_log_lik_val = -log_lik_val\n",
    "    \n",
    "    return neg_log_lik_val"
   ]
  },
  {
   "cell_type": "code",
   "execution_count": 158,
   "metadata": {},
   "outputs": [
    {
     "name": "stdout",
     "output_type": "stream",
     "text": [
      "ML estimates for µ= 10.377380200505925\n",
      "ML estimates for σ 0.1994992969157321\n",
      "Maximized Log Likelihood: -1497.1030088862083\n"
     ]
    }
   ],
   "source": [
    "mu_init = 10\n",
    "sig_init = 0.2\n",
    "params_init = np.array([mu_init, sig_init])\n",
    "mle_args = (df['medtotinc2010'], \"None\",\"None\")\n",
    "results_uncstr = opt.minimize(crit, params_init, args=(mle_args))\n",
    "mu_MLE= results_uncstr.x[0]\n",
    "sig_MLE = results_uncstr.x[1]\n",
    "print('ML estimates for µ=', mu_MLE)\n",
    "print('ML estimates for σ', sig_MLE)\n",
    "print(\"Maximized Log Likelihood:\",-results_uncstr.fun)\n",
    "#log_lik_trunclognorm(df['medtotinc2010'],mu_MLE, sig_MLE, \"None\",\"None\")"
   ]
  },
  {
   "cell_type": "markdown",
   "metadata": {},
   "source": [
    "Maximized Likelihood is:\n",
    "$e^{MLL}=e^{-1497}$"
   ]
  },
  {
   "cell_type": "code",
   "execution_count": 159,
   "metadata": {},
   "outputs": [
    {
     "data": {
      "text/plain": [
       "0.0"
      ]
     },
     "execution_count": 159,
     "metadata": {},
     "output_type": "execute_result"
    }
   ],
   "source": [
    "#Twp ways to get Maximized Likelihood (very close to 0)\n",
    "np.prod(trunc_lognorm_pdf(df['medtotinc2010'], mu_MLE, sig_MLE, \"None\",\"None\"))\n",
    "\n",
    "np.exp(-results_uncstr.fun)"
   ]
  },
  {
   "cell_type": "code",
   "execution_count": 160,
   "metadata": {},
   "outputs": [
    {
     "name": "stdout",
     "output_type": "stream",
     "text": [
      "VCV(MLE):\n",
      "[[ 2.54949555e-08 -1.13104761e-08]\n",
      " [-1.13104761e-08  1.89902896e-04]]\n",
      "Standard error for mu estimate =  0.00015967139844098166\n",
      "Standard error for sigma estimate =  0.013780525987273513\n"
     ]
    }
   ],
   "source": [
    "vcv_mle = results_uncstr.hess_inv\n",
    "\n",
    "stderr_mu_mle = np.sqrt(vcv_mle[0,0])\n",
    "stderr_sig_mle = np.sqrt(vcv_mle[1,1])\n",
    "print('VCV(MLE):')\n",
    "print(vcv_mle)\n",
    "print('Standard error for mu estimate = ', stderr_mu_mle)\n",
    "print('Standard error for sigma estimate = ', stderr_sig_mle)"
   ]
  },
  {
   "cell_type": "code",
   "execution_count": 161,
   "metadata": {},
   "outputs": [
    {
     "data": {
      "image/png": "[encoded data removed]",
      "text/plain": [
       "<Figure size 432x288 with 1 Axes>"
      ]
     },
     "metadata": {
      "needs_background": "light"
     },
     "output_type": "display_data"
    }
   ],
   "source": [
    "# Plot the histogram of the data\n",
    "dist_pts = np.linspace(15000, 55000, 300)\n",
    "plt.hist(df['medtotinc2010'], 30, density=True)\n",
    "\n",
    "## Plot the MLE estimated distribution\n",
    "plt.plot(dist_pts, trunc_lognorm_pdf(dist_pts, mu_MLE,sig_MLE,\"None\",\"None\"),\n",
    "         linewidth=2, color='r', label='$\\mu$=10.38,$\\sigma$=0.199')\n",
    "plt.legend(loc='upper left')\n",
    "\n",
    "plt.title('Distribution of median total household income', fontsize=20)\n",
    "plt.xlabel('median total household income')\n",
    "plt.ylabel('Percent of income')\n",
    "plt.show()"
   ]
  },
  {
   "cell_type": "markdown",
   "metadata": {},
   "source": [
    "### Normal"
   ]
  },
  {
   "cell_type": "code",
   "execution_count": 162,
   "metadata": {},
   "outputs": [],
   "source": [
    "# Define function that generates values of a normal pdf\n",
    "def trunc_norm_pdf(xvals, mu, sigma, cut_lb, cut_ub):\n",
    "\n",
    "    if cut_ub == 'None' and cut_lb == 'None':\n",
    "        prob_notcut = 1.0\n",
    "    elif cut_ub == 'None' and cut_lb != 'None':\n",
    "        prob_notcut = 1.0 - sts.norm.cdf(cut_lb, loc=mu, scale=sigma)\n",
    "    elif cut_ub != 'None' and cut_lb == 'None':\n",
    "        prob_notcut = sts.norm.cdf(cut_ub, loc=mu, scale=sigma)\n",
    "    elif cut_ub != 'None' and cut_lb != 'None':\n",
    "        prob_notcut = (sts.norm.cdf(cut_ub, loc=mu, scale=sigma) -\n",
    "                       sts.norm.cdf(cut_lb, loc=mu, scale=sigma))\n",
    "            \n",
    "    pdf_vals    = ((1/(sigma * np.sqrt(2 * np.pi)) *\n",
    "                    np.exp( - (xvals - mu)**2 / (2 * sigma**2))) /\n",
    "                    prob_notcut)\n",
    "    \n",
    "    return pdf_vals"
   ]
  },
  {
   "cell_type": "code",
   "execution_count": 163,
   "metadata": {},
   "outputs": [],
   "source": [
    "# Define log likelihood function for the normal distribution\n",
    "def log_lik_truncnorm(xvals, mu, sigma, cut_lb, cut_ub):\n",
    "\n",
    "    pdf_vals = trunc_norm_pdf(xvals, mu, sigma, cut_lb, cut_ub)\n",
    "    ln_pdf_vals = np.log(pdf_vals)\n",
    "    log_lik_val = ln_pdf_vals.sum()\n",
    "    \n",
    "    return log_lik_val"
   ]
  },
  {
   "cell_type": "code",
   "execution_count": 164,
   "metadata": {},
   "outputs": [],
   "source": [
    "# Compute the negative of the log likelihood function given parameters and data\n",
    "def crit(params, *args):\n",
    "    \n",
    "    mu, sigma = params\n",
    "    xvals, cut_lb, cut_ub = args\n",
    "    log_lik_val = log_lik_truncnorm(xvals, mu, sigma, cut_lb, cut_ub)\n",
    "    neg_log_lik_val = -log_lik_val\n",
    "    \n",
    "    return neg_log_lik_val"
   ]
  },
  {
   "cell_type": "code",
   "execution_count": 170,
   "metadata": {},
   "outputs": [
    {
     "name": "stdout",
     "output_type": "stream",
     "text": [
      "ML estimates for µ= 32901.683156212486\n",
      "ML estimates for σ 6622.168530667489\n",
      "Maximized Log Likelihood: -1501.837558492315\n"
     ]
    }
   ],
   "source": [
    "mu_init = 33000\n",
    "sig_init = 5000\n",
    "params_init = np.array([mu_init, sig_init])\n",
    "mle_args = (df['medtotinc2010'], \"None\",\"None\")\n",
    "results_uncstr = opt.minimize(crit, params_init, args=(mle_args))\n",
    "mu_MLE= results_uncstr.x[0]\n",
    "sig_MLE = results_uncstr.x[1]\n",
    "print('ML estimates for µ=', mu_MLE)\n",
    "print('ML estimates for σ', sig_MLE)\n",
    "print(\"Maximized Log Likelihood:\",-results_uncstr.fun)\n",
    "#log_lik_trunclognorm(df['medtotinc2010'],mu_MLE, sig_MLE, \"None\",\"None\")"
   ]
  },
  {
   "cell_type": "code",
   "execution_count": 166,
   "metadata": {},
   "outputs": [
    {
     "name": "stdout",
     "output_type": "stream",
     "text": [
      "VCV(MLE):\n",
      "[[329216.80769939  18029.71588382]\n",
      " [ 18029.71588382 130717.15512698]]\n",
      "Standard error for mu estimate =  573.7741783135466\n",
      "Standard error for sigma estimate =  361.54827496059534\n"
     ]
    }
   ],
   "source": [
    "vcv_mle = results_uncstr.hess_inv\n",
    "\n",
    "stderr_mu_mle = np.sqrt(vcv_mle[0,0])\n",
    "stderr_sig_mle = np.sqrt(vcv_mle[1,1])\n",
    "print('VCV(MLE):')\n",
    "print(vcv_mle)\n",
    "print('Standard error for mu estimate = ', stderr_mu_mle)\n",
    "print('Standard error for sigma estimate = ', stderr_sig_mle)"
   ]
  },
  {
   "cell_type": "code",
   "execution_count": 171,
   "metadata": {},
   "outputs": [
    {
     "data": {
      "image/png": "[encoded data removed]",
      "text/plain": [
       "<Figure size 432x288 with 1 Axes>"
      ]
     },
     "metadata": {
      "needs_background": "light"
     },
     "output_type": "display_data"
    }
   ],
   "source": [
    "# Plot the histogram of the data\n",
    "dist_pts = np.linspace(15000, 55000, 300)\n",
    "plt.hist(df['medtotinc2010'], 30, density=True)\n",
    "\n",
    "## Plot the MLE estimated distribution\n",
    "plt.plot(dist_pts, trunc_norm_pdf(dist_pts, mu_MLE,sig_MLE,\"None\",\"None\"),\n",
    "         linewidth=2, color='r', label='$\\mu$=132901,$\\sigma$=6622')\n",
    "plt.legend(loc='upper left')\n",
    "\n",
    "plt.title('Distribution of median total household income', fontsize=20)\n",
    "plt.xlabel('median total household income')\n",
    "plt.ylabel('Percent of income')\n",
    "plt.show()"
   ]
  }
 ],
 "metadata": {
  "kernelspec": {
   "display_name": "Python 3",
   "language": "python",
   "name": "python3"
  },
  "language_info": {
   "codemirror_mode": {
    "name": "ipython",
    "version": 3
   },
   "file_extension": ".py",
   "mimetype": "text/x-python",
   "name": "python",
   "nbconvert_exporter": "python",
   "pygments_lexer": "ipython3",
   "version": "3.7.1"
  }
 },
 "nbformat": 4,
 "nbformat_minor": 2
}
